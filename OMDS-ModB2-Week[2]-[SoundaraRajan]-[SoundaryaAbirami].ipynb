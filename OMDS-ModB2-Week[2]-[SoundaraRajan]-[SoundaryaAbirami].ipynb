{
 "cells": [
  {
   "cell_type": "markdown",
   "id": "5190b54c-d49c-4d6f-80cc-22555336a9cd",
   "metadata": {},
   "source": [
    "# Week 2 - Preprocessing, part 2\n",
    "\n",
    "# 1. Lesson: None"
   ]
  },
  {
   "cell_type": "markdown",
   "id": "47c4e5ff-b05f-4ef2-96f1-49dcb5beb158",
   "metadata": {},
   "source": [
    "# 2. Weekly graph question"
   ]
  },
  {
   "cell_type": "markdown",
   "id": "aad37e29-6e84-41fa-886d-abc1312213ab",
   "metadata": {},
   "source": [
    "The Storytelling With Data book mentions planning on a \"Who, What, and How\" for your data story.  Write down a possible Who, What, and How for your data, using the ideas in the book."
   ]
  },
  {
   "cell_type": "markdown",
   "id": "5f2336ca",
   "metadata": {},
   "source": [
    "Who: For this project, our audience is mainly cybersecurity professionals and IT security managers—people who need to quickly spot potential phishing websites and take action. They already understand the basics of cyber threats but are looking for data-driven insights that can help them refine their detection methods. We want to make sure my analysis is clear and actionable for them, without getting too bogged down in technical jargon."
   ]
  },
  {
   "cell_type": "markdown",
   "id": "b17a385a",
   "metadata": {},
   "source": [
    "What:\n",
    "The core idea I’m exploring is that certain characteristics of a webpage—like the structure of its URL or other features—can reveal whether it’s likely to be a phishing site. My analysis will focus on:\n",
    "\n",
    "Pinpointing which webpage features most clearly distinguish phishing sites from legitimate ones.\n",
    "Comparing how these features behave for phishing versus non-phishing sites.\n",
    "Potentially even building a simple model or feature ranking that shows which attributes are the strongest indicators of phishing.\n"
   ]
  },
  {
   "cell_type": "markdown",
   "id": "6da99089",
   "metadata": {},
   "source": [
    "How:\n",
    "Use a combination of visualizations and simple predictive modeling to tell this story.\n",
    "Visualizations: Create simple graphs (like histograms, scatter plots, and correlation heatmaps) with Matplotlib and Seaborn to compare phishing vs. legitimate sites.\n",
    "Build a basic model to highlight which features are most important in detecting phishing.\n",
    "\n",
    "Narrative Flow:\n",
    "Begin with an overview of the growing threat of phishing and why early detection is crucial.\n",
    "Use visualizations to compare key features of phishing and legitimate sites.\n",
    "Highlight the most significant indicators of phishing.\n",
    "Conclude with practical recommendations to improve phishing detection."
   ]
  },
  {
   "cell_type": "code",
   "execution_count": null,
   "id": "75603f64",
   "metadata": {},
   "outputs": [],
   "source": []
  },
  {
   "cell_type": "code",
   "execution_count": null,
   "id": "c862fc32-1297-4587-b9da-4b0642ab3e6e",
   "metadata": {},
   "outputs": [],
   "source": []
  },
  {
   "cell_type": "markdown",
   "id": "898eb327-aefd-4ac0-b95a-92b616a2181b",
   "metadata": {},
   "source": [
    "# 3. Homework - work with your own data"
   ]
  },
  {
   "cell_type": "code",
   "execution_count": 3,
   "id": "fe925521-979f-4983-8d85-8db8d1316e99",
   "metadata": {},
   "outputs": [],
   "source": [
    "import pandas as pd\n",
    "import numpy as np\n",
    "from datetime import datetime, timedelta"
   ]
  },
  {
   "cell_type": "markdown",
   "id": "14836788-b235-4cd4-b94d-5f749c6141a8",
   "metadata": {},
   "source": [
    "This week, you will do the same types of exercises as last week, but you should use your chosen datasets that someone in your class found last semester. (They likely will not be the particular datasets that you found yourself.)\n",
    "\n",
    "### Here are some types of analysis you can do  Use Google, documentation, and ChatGPT to help you:\n",
    "\n",
    "- Summarize the datasets using info() and describe()\n",
    "\n",
    "- Are there any duplicate rows?\n",
    "\n",
    "- Are there any duplicate values in a given column (when this would be inappropriate?)\n",
    "\n",
    "- What are the mean, median, and mode of each column?\n",
    "\n",
    "- Are there any missing or null values?\n",
    "\n",
    "    - Do you want to fill in the missing value with a mean value?  A value of your choice?  Remove that row?\n",
    "\n",
    "- Identify any other inconsistent data (e.g. someone seems to be taking an action before they are born.)\n",
    "\n",
    "- Encode any categorical variables (e.g. with one-hot encoding.)\n",
    "\n",
    "### Conclusions:\n",
    "\n",
    "- Are the data usable?  If not, find some new data!\n",
    "\n",
    "- Do you need to modify or correct the data in some way?\n",
    "\n",
    "- Is there any class imbalance?  (Categories that have many more items than other categories)."
   ]
  },
  {
   "cell_type": "markdown",
   "id": "e09cc139",
   "metadata": {},
   "source": [
    "1. Summarize the Dataset\n"
   ]
  },
  {
   "cell_type": "code",
   "execution_count": 4,
   "id": "1dc2df19",
   "metadata": {},
   "outputs": [
    {
     "name": "stdout",
     "output_type": "stream",
     "text": [
      "<class 'pandas.core.frame.DataFrame'>\n",
      "RangeIndex: 11430 entries, 0 to 11429\n",
      "Data columns (total 89 columns):\n",
      " #   Column                      Non-Null Count  Dtype  \n",
      "---  ------                      --------------  -----  \n",
      " 0   url                         11430 non-null  object \n",
      " 1   length_url                  11430 non-null  int64  \n",
      " 2   length_hostname             11430 non-null  int64  \n",
      " 3   ip                          11430 non-null  int64  \n",
      " 4   nb_dots                     11430 non-null  int64  \n",
      " 5   nb_hyphens                  11430 non-null  int64  \n",
      " 6   nb_at                       11430 non-null  int64  \n",
      " 7   nb_qm                       11430 non-null  int64  \n",
      " 8   nb_and                      11430 non-null  int64  \n",
      " 9   nb_or                       11430 non-null  int64  \n",
      " 10  nb_eq                       11430 non-null  int64  \n",
      " 11  nb_underscore               11430 non-null  int64  \n",
      " 12  nb_tilde                    11430 non-null  int64  \n",
      " 13  nb_percent                  11430 non-null  int64  \n",
      " 14  nb_slash                    11430 non-null  int64  \n",
      " 15  nb_star                     11430 non-null  int64  \n",
      " 16  nb_colon                    11430 non-null  int64  \n",
      " 17  nb_comma                    11430 non-null  int64  \n",
      " 18  nb_semicolumn               11430 non-null  int64  \n",
      " 19  nb_dollar                   11430 non-null  int64  \n",
      " 20  nb_space                    11430 non-null  int64  \n",
      " 21  nb_www                      11430 non-null  int64  \n",
      " 22  nb_com                      11430 non-null  int64  \n",
      " 23  nb_dslash                   11430 non-null  int64  \n",
      " 24  http_in_path                11430 non-null  int64  \n",
      " 25  https_token                 11430 non-null  int64  \n",
      " 26  ratio_digits_url            11430 non-null  float64\n",
      " 27  ratio_digits_host           11430 non-null  float64\n",
      " 28  punycode                    11430 non-null  int64  \n",
      " 29  port                        11430 non-null  int64  \n",
      " 30  tld_in_path                 11430 non-null  int64  \n",
      " 31  tld_in_subdomain            11430 non-null  int64  \n",
      " 32  abnormal_subdomain          11430 non-null  int64  \n",
      " 33  nb_subdomains               11430 non-null  int64  \n",
      " 34  prefix_suffix               11430 non-null  int64  \n",
      " 35  random_domain               11430 non-null  int64  \n",
      " 36  shortening_service          11430 non-null  int64  \n",
      " 37  path_extension              11430 non-null  int64  \n",
      " 38  nb_redirection              11430 non-null  int64  \n",
      " 39  nb_external_redirection     11430 non-null  int64  \n",
      " 40  length_words_raw            11430 non-null  int64  \n",
      " 41  char_repeat                 11430 non-null  int64  \n",
      " 42  shortest_words_raw          11430 non-null  int64  \n",
      " 43  shortest_word_host          11430 non-null  int64  \n",
      " 44  shortest_word_path          11430 non-null  int64  \n",
      " 45  longest_words_raw           11430 non-null  int64  \n",
      " 46  longest_word_host           11430 non-null  int64  \n",
      " 47  longest_word_path           11430 non-null  int64  \n",
      " 48  avg_words_raw               11430 non-null  float64\n",
      " 49  avg_word_host               11430 non-null  float64\n",
      " 50  avg_word_path               11430 non-null  float64\n",
      " 51  phish_hints                 11430 non-null  int64  \n",
      " 52  domain_in_brand             11430 non-null  int64  \n",
      " 53  brand_in_subdomain          11430 non-null  int64  \n",
      " 54  brand_in_path               11430 non-null  int64  \n",
      " 55  suspecious_tld              11430 non-null  int64  \n",
      " 56  statistical_report          11430 non-null  int64  \n",
      " 57  nb_hyperlinks               11430 non-null  int64  \n",
      " 58  ratio_intHyperlinks         11430 non-null  float64\n",
      " 59  ratio_extHyperlinks         11430 non-null  float64\n",
      " 60  ratio_nullHyperlinks        11430 non-null  int64  \n",
      " 61  nb_extCSS                   11430 non-null  int64  \n",
      " 62  ratio_intRedirection        11430 non-null  int64  \n",
      " 63  ratio_extRedirection        11430 non-null  float64\n",
      " 64  ratio_intErrors             11430 non-null  int64  \n",
      " 65  ratio_extErrors             11430 non-null  float64\n",
      " 66  login_form                  11430 non-null  int64  \n",
      " 67  external_favicon            11430 non-null  int64  \n",
      " 68  links_in_tags               11430 non-null  float64\n",
      " 69  submit_email                11430 non-null  int64  \n",
      " 70  ratio_intMedia              11430 non-null  float64\n",
      " 71  ratio_extMedia              11430 non-null  float64\n",
      " 72  sfh                         11430 non-null  int64  \n",
      " 73  iframe                      11430 non-null  int64  \n",
      " 74  popup_window                11430 non-null  int64  \n",
      " 75  safe_anchor                 11430 non-null  float64\n",
      " 76  onmouseover                 11430 non-null  int64  \n",
      " 77  right_clic                  11430 non-null  int64  \n",
      " 78  empty_title                 11430 non-null  int64  \n",
      " 79  domain_in_title             11430 non-null  int64  \n",
      " 80  domain_with_copyright       11430 non-null  int64  \n",
      " 81  whois_registered_domain     11430 non-null  int64  \n",
      " 82  domain_registration_length  11430 non-null  int64  \n",
      " 83  domain_age                  11430 non-null  int64  \n",
      " 84  web_traffic                 11430 non-null  int64  \n",
      " 85  dns_record                  11430 non-null  int64  \n",
      " 86  google_index                11430 non-null  int64  \n",
      " 87  page_rank                   11430 non-null  int64  \n",
      " 88  status                      11430 non-null  object \n",
      "dtypes: float64(13), int64(74), object(2)\n",
      "memory usage: 7.8+ MB\n",
      "         length_url  length_hostname            ip       nb_dots  \\\n",
      "count  11430.000000     11430.000000  11430.000000  11430.000000   \n",
      "mean      61.126684        21.090289      0.150569      2.480752   \n",
      "std       55.297318        10.777171      0.357644      1.369686   \n",
      "min       12.000000         4.000000      0.000000      1.000000   \n",
      "25%       33.000000        15.000000      0.000000      2.000000   \n",
      "50%       47.000000        19.000000      0.000000      2.000000   \n",
      "75%       71.000000        24.000000      0.000000      3.000000   \n",
      "max     1641.000000       214.000000      1.000000     24.000000   \n",
      "\n",
      "         nb_hyphens         nb_at         nb_qm        nb_and    nb_or  \\\n",
      "count  11430.000000  11430.000000  11430.000000  11430.000000  11430.0   \n",
      "mean       0.997550      0.022222      0.141207      0.162292      0.0   \n",
      "std        2.087087      0.155500      0.364456      0.821337      0.0   \n",
      "min        0.000000      0.000000      0.000000      0.000000      0.0   \n",
      "25%        0.000000      0.000000      0.000000      0.000000      0.0   \n",
      "50%        0.000000      0.000000      0.000000      0.000000      0.0   \n",
      "75%        1.000000      0.000000      0.000000      0.000000      0.0   \n",
      "max       43.000000      4.000000      3.000000     19.000000      0.0   \n",
      "\n",
      "              nb_eq  ...   empty_title  domain_in_title  \\\n",
      "count  11430.000000  ...  11430.000000     11430.000000   \n",
      "mean       0.293176  ...      0.124759         0.775853   \n",
      "std        0.998317  ...      0.330460         0.417038   \n",
      "min        0.000000  ...      0.000000         0.000000   \n",
      "25%        0.000000  ...      0.000000         1.000000   \n",
      "50%        0.000000  ...      0.000000         1.000000   \n",
      "75%        0.000000  ...      0.000000         1.000000   \n",
      "max       19.000000  ...      1.000000         1.000000   \n",
      "\n",
      "       domain_with_copyright  whois_registered_domain  \\\n",
      "count           11430.000000             11430.000000   \n",
      "mean                0.439545                 0.072878   \n",
      "std                 0.496353                 0.259948   \n",
      "min                 0.000000                 0.000000   \n",
      "25%                 0.000000                 0.000000   \n",
      "50%                 0.000000                 0.000000   \n",
      "75%                 1.000000                 0.000000   \n",
      "max                 1.000000                 1.000000   \n",
      "\n",
      "       domain_registration_length    domain_age   web_traffic    dns_record  \\\n",
      "count                11430.000000  11430.000000  1.143000e+04  11430.000000   \n",
      "mean                   492.532196   4062.543745  8.567566e+05      0.020122   \n",
      "std                    814.769415   3107.784600  1.995606e+06      0.140425   \n",
      "min                     -1.000000    -12.000000  0.000000e+00      0.000000   \n",
      "25%                     84.000000    972.250000  0.000000e+00      0.000000   \n",
      "50%                    242.000000   3993.000000  1.651000e+03      0.000000   \n",
      "75%                    449.000000   7026.750000  3.738455e+05      0.000000   \n",
      "max                  29829.000000  12874.000000  1.076799e+07      1.000000   \n",
      "\n",
      "       google_index     page_rank  \n",
      "count  11430.000000  11430.000000  \n",
      "mean       0.533946      3.185739  \n",
      "std        0.498868      2.536955  \n",
      "min        0.000000      0.000000  \n",
      "25%        0.000000      1.000000  \n",
      "50%        1.000000      3.000000  \n",
      "75%        1.000000      5.000000  \n",
      "max        1.000000     10.000000  \n",
      "\n",
      "[8 rows x 87 columns]\n"
     ]
    }
   ],
   "source": [
    "df = pd.read_csv(\"dataset_phishing.csv\")\n",
    "df.info()\n",
    "print(df.describe())"
   ]
  },
  {
   "cell_type": "markdown",
   "id": "0c70a65f",
   "metadata": {},
   "source": [
    "2. Check for Duplicates"
   ]
  },
  {
   "cell_type": "code",
   "execution_count": 5,
   "id": "fc49f334",
   "metadata": {},
   "outputs": [
    {
     "name": "stdout",
     "output_type": "stream",
     "text": [
      "Duplicate rows found: Empty DataFrame\n",
      "Columns: [url, length_url, length_hostname, ip, nb_dots, nb_hyphens, nb_at, nb_qm, nb_and, nb_or, nb_eq, nb_underscore, nb_tilde, nb_percent, nb_slash, nb_star, nb_colon, nb_comma, nb_semicolumn, nb_dollar, nb_space, nb_www, nb_com, nb_dslash, http_in_path, https_token, ratio_digits_url, ratio_digits_host, punycode, port, tld_in_path, tld_in_subdomain, abnormal_subdomain, nb_subdomains, prefix_suffix, random_domain, shortening_service, path_extension, nb_redirection, nb_external_redirection, length_words_raw, char_repeat, shortest_words_raw, shortest_word_host, shortest_word_path, longest_words_raw, longest_word_host, longest_word_path, avg_words_raw, avg_word_host, avg_word_path, phish_hints, domain_in_brand, brand_in_subdomain, brand_in_path, suspecious_tld, statistical_report, nb_hyperlinks, ratio_intHyperlinks, ratio_extHyperlinks, ratio_nullHyperlinks, nb_extCSS, ratio_intRedirection, ratio_extRedirection, ratio_intErrors, ratio_extErrors, login_form, external_favicon, links_in_tags, submit_email, ratio_intMedia, ratio_extMedia, sfh, iframe, popup_window, safe_anchor, onmouseover, right_clic, empty_title, domain_in_title, domain_with_copyright, whois_registered_domain, domain_registration_length, domain_age, web_traffic, dns_record, google_index, page_rank, status]\n",
      "Index: []\n",
      "\n",
      "[0 rows x 89 columns]\n"
     ]
    }
   ],
   "source": [
    "duplicate_rows = df[df.duplicated()]\n",
    "print(\"Duplicate rows found:\", duplicate_rows)"
   ]
  },
  {
   "cell_type": "markdown",
   "id": "c8461013",
   "metadata": {},
   "source": [
    "No duplicate rows were found,the dataset appears to have unique records."
   ]
  },
  {
   "cell_type": "markdown",
   "id": "9c2b72e6",
   "metadata": {},
   "source": [
    "3. Are there any duplicate values in a given column (when this would be inappropriate?)"
   ]
  },
  {
   "cell_type": "code",
   "execution_count": 8,
   "id": "0a45b527",
   "metadata": {},
   "outputs": [
    {
     "name": "stdout",
     "output_type": "stream",
     "text": [
      "Duplicate URLs: 11305    http://e710z0ear.du.r.appspot.com/c:/users/use...\n",
      "Name: url, dtype: object\n"
     ]
    }
   ],
   "source": [
    "duplicate_ids = df['url'].duplicated()\n",
    "print(\"Duplicate URLs:\", df.loc[duplicate_ids, 'url'])"
   ]
  },
  {
   "cell_type": "markdown",
   "id": "517b4d23",
   "metadata": {},
   "source": [
    "URL at index 11305 is flagged as a duplicate. Any duplicate values in features that are naturally repeated (like counts or binary indicators) are acceptable."
   ]
  },
  {
   "cell_type": "markdown",
   "id": "b56f2fb8",
   "metadata": {},
   "source": [
    "4. What Are the Mean, Median, and Mode of Each Column?"
   ]
  },
  {
   "cell_type": "code",
   "execution_count": 9,
   "id": "7ce81c87",
   "metadata": {},
   "outputs": [
    {
     "name": "stdout",
     "output_type": "stream",
     "text": [
      "length_url: mean = 61.13, median = 47.00, mode = 26\n",
      "length_hostname: mean = 21.09, median = 19.00, mode = 16\n",
      "ip: mean = 0.15, median = 0.00, mode = 0\n",
      "nb_dots: mean = 2.48, median = 2.00, mode = 2\n",
      "nb_hyphens: mean = 1.00, median = 0.00, mode = 0\n",
      "nb_at: mean = 0.02, median = 0.00, mode = 0\n",
      "nb_qm: mean = 0.14, median = 0.00, mode = 0\n",
      "nb_and: mean = 0.16, median = 0.00, mode = 0\n",
      "nb_or: mean = 0.00, median = 0.00, mode = 0\n",
      "nb_eq: mean = 0.29, median = 0.00, mode = 0\n",
      "nb_underscore: mean = 0.32, median = 0.00, mode = 0\n",
      "nb_tilde: mean = 0.01, median = 0.00, mode = 0\n",
      "nb_percent: mean = 0.12, median = 0.00, mode = 0\n",
      "nb_slash: mean = 4.29, median = 4.00, mode = 3\n",
      "nb_star: mean = 0.00, median = 0.00, mode = 0\n",
      "nb_colon: mean = 1.03, median = 1.00, mode = 1\n",
      "nb_comma: mean = 0.00, median = 0.00, mode = 0\n",
      "nb_semicolumn: mean = 0.06, median = 0.00, mode = 0\n",
      "nb_dollar: mean = 0.00, median = 0.00, mode = 0\n",
      "nb_space: mean = 0.03, median = 0.00, mode = 0\n",
      "nb_www: mean = 0.45, median = 0.00, mode = 0\n",
      "nb_com: mean = 0.13, median = 0.00, mode = 0\n",
      "nb_dslash: mean = 0.01, median = 0.00, mode = 0\n",
      "http_in_path: mean = 0.02, median = 0.00, mode = 0\n",
      "https_token: mean = 0.61, median = 1.00, mode = 1\n",
      "ratio_digits_url: mean = 0.05, median = 0.00, mode = 0.0\n",
      "ratio_digits_host: mean = 0.03, median = 0.00, mode = 0.0\n",
      "punycode: mean = 0.00, median = 0.00, mode = 0\n",
      "port: mean = 0.00, median = 0.00, mode = 0\n",
      "tld_in_path: mean = 0.07, median = 0.00, mode = 0\n",
      "tld_in_subdomain: mean = 0.05, median = 0.00, mode = 0\n",
      "abnormal_subdomain: mean = 0.02, median = 0.00, mode = 0\n",
      "nb_subdomains: mean = 2.23, median = 2.00, mode = 2\n",
      "prefix_suffix: mean = 0.20, median = 0.00, mode = 0\n",
      "random_domain: mean = 0.08, median = 0.00, mode = 0\n",
      "shortening_service: mean = 0.12, median = 0.00, mode = 0\n",
      "path_extension: mean = 0.00, median = 0.00, mode = 0\n",
      "nb_redirection: mean = 0.50, median = 0.00, mode = 0\n",
      "nb_external_redirection: mean = 0.00, median = 0.00, mode = 0\n",
      "length_words_raw: mean = 6.23, median = 5.00, mode = 2\n",
      "char_repeat: mean = 2.93, median = 3.00, mode = 3\n",
      "shortest_words_raw: mean = 3.13, median = 3.00, mode = 3\n",
      "shortest_word_host: mean = 5.02, median = 3.00, mode = 3\n",
      "shortest_word_path: mean = 2.40, median = 2.00, mode = 0\n",
      "longest_words_raw: mean = 15.39, median = 11.00, mode = 9\n",
      "longest_word_host: mean = 10.47, median = 10.00, mode = 9\n",
      "longest_word_path: mean = 10.56, median = 7.00, mode = 0\n",
      "avg_words_raw: mean = 7.26, median = 6.50, mode = 6.0\n",
      "avg_word_host: mean = 7.68, median = 7.00, mode = 5.0\n",
      "avg_word_path: mean = 5.09, median = 4.86, mode = 0.0\n",
      "phish_hints: mean = 0.33, median = 0.00, mode = 0\n",
      "domain_in_brand: mean = 0.10, median = 0.00, mode = 0\n",
      "brand_in_subdomain: mean = 0.00, median = 0.00, mode = 0\n",
      "brand_in_path: mean = 0.00, median = 0.00, mode = 0\n",
      "suspecious_tld: mean = 0.02, median = 0.00, mode = 0\n",
      "statistical_report: mean = 0.06, median = 0.00, mode = 0\n",
      "nb_hyperlinks: mean = 87.19, median = 34.00, mode = 0\n",
      "ratio_intHyperlinks: mean = 0.60, median = 0.74, mode = 0.0\n",
      "ratio_extHyperlinks: mean = 0.28, median = 0.13, mode = 0.0\n",
      "ratio_nullHyperlinks: mean = 0.00, median = 0.00, mode = 0\n",
      "nb_extCSS: mean = 0.78, median = 0.00, mode = 0\n",
      "ratio_intRedirection: mean = 0.00, median = 0.00, mode = 0\n",
      "ratio_extRedirection: mean = 0.16, median = 0.00, mode = 0.0\n",
      "ratio_intErrors: mean = 0.00, median = 0.00, mode = 0\n",
      "ratio_extErrors: mean = 0.06, median = 0.00, mode = 0.0\n",
      "login_form: mean = 0.06, median = 0.00, mode = 0\n",
      "external_favicon: mean = 0.44, median = 0.00, mode = 0\n",
      "links_in_tags: mean = 51.98, median = 60.00, mode = 0.0\n",
      "submit_email: mean = 0.00, median = 0.00, mode = 0\n",
      "ratio_intMedia: mean = 42.87, median = 11.11, mode = 0.0\n",
      "ratio_extMedia: mean = 23.24, median = 0.00, mode = 0.0\n",
      "sfh: mean = 0.00, median = 0.00, mode = 0\n",
      "iframe: mean = 0.00, median = 0.00, mode = 0\n",
      "popup_window: mean = 0.01, median = 0.00, mode = 0\n",
      "safe_anchor: mean = 37.06, median = 23.29, mode = 0.0\n",
      "onmouseover: mean = 0.00, median = 0.00, mode = 0\n",
      "right_clic: mean = 0.00, median = 0.00, mode = 0\n",
      "empty_title: mean = 0.12, median = 0.00, mode = 0\n",
      "domain_in_title: mean = 0.78, median = 1.00, mode = 1\n",
      "domain_with_copyright: mean = 0.44, median = 0.00, mode = 0\n",
      "whois_registered_domain: mean = 0.07, median = 0.00, mode = 0\n",
      "domain_registration_length: mean = 492.53, median = 242.00, mode = 0\n",
      "domain_age: mean = 4062.54, median = 3993.00, mode = -1\n",
      "web_traffic: mean = 856756.64, median = 1651.00, mode = 0\n",
      "dns_record: mean = 0.02, median = 0.00, mode = 0\n",
      "google_index: mean = 0.53, median = 1.00, mode = 1\n",
      "page_rank: mean = 3.19, median = 3.00, mode = 0\n"
     ]
    }
   ],
   "source": [
    "for col in df.select_dtypes(include=['float64', 'int64']).columns:\n",
    "    mean_val = df[col].mean()\n",
    "    median_val = df[col].median()\n",
    "    mode_val = df[col].mode()[0]  # Taking the first mode if there are multiple\n",
    "    print(f\"{col}: mean = {mean_val:.2f}, median = {median_val:.2f}, mode = {mode_val}\")"
   ]
  },
  {
   "cell_type": "markdown",
   "id": "bf46eb14",
   "metadata": {},
   "source": [
    "5. Are There Any Missing or Null Values?\n"
   ]
  },
  {
   "cell_type": "code",
   "execution_count": 10,
   "id": "b80c8296",
   "metadata": {},
   "outputs": [
    {
     "name": "stdout",
     "output_type": "stream",
     "text": [
      "url                0\n",
      "length_url         0\n",
      "length_hostname    0\n",
      "ip                 0\n",
      "nb_dots            0\n",
      "                  ..\n",
      "web_traffic        0\n",
      "dns_record         0\n",
      "google_index       0\n",
      "page_rank          0\n",
      "status             0\n",
      "Length: 89, dtype: int64\n"
     ]
    }
   ],
   "source": [
    "print(df.isnull().sum())"
   ]
  },
  {
   "cell_type": "markdown",
   "id": "3db396c2",
   "metadata": {},
   "source": [
    "The count of missing values is zero. This indicates that the dataset is complete with respect to missing or null data."
   ]
  },
  {
   "cell_type": "markdown",
   "id": "bbf3b8e4",
   "metadata": {},
   "source": [
    "6. Any other inconsistent data"
   ]
  },
  {
   "cell_type": "code",
   "execution_count": 12,
   "id": "139bd45a",
   "metadata": {},
   "outputs": [
    {
     "name": "stdout",
     "output_type": "stream",
     "text": [
      "Number of duplicate rows: 0\n",
      "\n",
      "Data Types:\n",
      "url                object\n",
      "length_url          int64\n",
      "length_hostname     int64\n",
      "ip                  int64\n",
      "nb_dots             int64\n",
      "                    ...  \n",
      "web_traffic         int64\n",
      "dns_record          int64\n",
      "google_index        int64\n",
      "page_rank           int64\n",
      "status             object\n",
      "Length: 89, dtype: object\n",
      "\n",
      "Summary Statistics:\n",
      "                                                      url    length_url  \\\n",
      "count                                               11430  11430.000000   \n",
      "unique                                              11429           NaN   \n",
      "top     http://e710z0ear.du.r.appspot.com/c:/users/use...           NaN   \n",
      "freq                                                    2           NaN   \n",
      "mean                                                  NaN     61.126684   \n",
      "std                                                   NaN     55.297318   \n",
      "min                                                   NaN     12.000000   \n",
      "25%                                                   NaN     33.000000   \n",
      "50%                                                   NaN     47.000000   \n",
      "75%                                                   NaN     71.000000   \n",
      "max                                                   NaN   1641.000000   \n",
      "\n",
      "        length_hostname            ip       nb_dots    nb_hyphens  \\\n",
      "count      11430.000000  11430.000000  11430.000000  11430.000000   \n",
      "unique              NaN           NaN           NaN           NaN   \n",
      "top                 NaN           NaN           NaN           NaN   \n",
      "freq                NaN           NaN           NaN           NaN   \n",
      "mean          21.090289      0.150569      2.480752      0.997550   \n",
      "std           10.777171      0.357644      1.369686      2.087087   \n",
      "min            4.000000      0.000000      1.000000      0.000000   \n",
      "25%           15.000000      0.000000      2.000000      0.000000   \n",
      "50%           19.000000      0.000000      2.000000      0.000000   \n",
      "75%           24.000000      0.000000      3.000000      1.000000   \n",
      "max          214.000000      1.000000     24.000000     43.000000   \n",
      "\n",
      "               nb_at         nb_qm        nb_and    nb_or  ...  \\\n",
      "count   11430.000000  11430.000000  11430.000000  11430.0  ...   \n",
      "unique           NaN           NaN           NaN      NaN  ...   \n",
      "top              NaN           NaN           NaN      NaN  ...   \n",
      "freq             NaN           NaN           NaN      NaN  ...   \n",
      "mean        0.022222      0.141207      0.162292      0.0  ...   \n",
      "std         0.155500      0.364456      0.821337      0.0  ...   \n",
      "min         0.000000      0.000000      0.000000      0.0  ...   \n",
      "25%         0.000000      0.000000      0.000000      0.0  ...   \n",
      "50%         0.000000      0.000000      0.000000      0.0  ...   \n",
      "75%         0.000000      0.000000      0.000000      0.0  ...   \n",
      "max         4.000000      3.000000     19.000000      0.0  ...   \n",
      "\n",
      "        domain_in_title  domain_with_copyright  whois_registered_domain  \\\n",
      "count      11430.000000           11430.000000             11430.000000   \n",
      "unique              NaN                    NaN                      NaN   \n",
      "top                 NaN                    NaN                      NaN   \n",
      "freq                NaN                    NaN                      NaN   \n",
      "mean           0.775853               0.439545                 0.072878   \n",
      "std            0.417038               0.496353                 0.259948   \n",
      "min            0.000000               0.000000                 0.000000   \n",
      "25%            1.000000               0.000000                 0.000000   \n",
      "50%            1.000000               0.000000                 0.000000   \n",
      "75%            1.000000               1.000000                 0.000000   \n",
      "max            1.000000               1.000000                 1.000000   \n",
      "\n",
      "        domain_registration_length    domain_age   web_traffic    dns_record  \\\n",
      "count                 11430.000000  11430.000000  1.143000e+04  11430.000000   \n",
      "unique                         NaN           NaN           NaN           NaN   \n",
      "top                            NaN           NaN           NaN           NaN   \n",
      "freq                           NaN           NaN           NaN           NaN   \n",
      "mean                    492.532196   4062.543745  8.567566e+05      0.020122   \n",
      "std                     814.769415   3107.784600  1.995606e+06      0.140425   \n",
      "min                      -1.000000    -12.000000  0.000000e+00      0.000000   \n",
      "25%                      84.000000    972.250000  0.000000e+00      0.000000   \n",
      "50%                     242.000000   3993.000000  1.651000e+03      0.000000   \n",
      "75%                     449.000000   7026.750000  3.738455e+05      0.000000   \n",
      "max                   29829.000000  12874.000000  1.076799e+07      1.000000   \n",
      "\n",
      "        google_index     page_rank      status  \n",
      "count   11430.000000  11430.000000       11430  \n",
      "unique           NaN           NaN           2  \n",
      "top              NaN           NaN  legitimate  \n",
      "freq             NaN           NaN        5715  \n",
      "mean        0.533946      3.185739         NaN  \n",
      "std         0.498868      2.536955         NaN  \n",
      "min         0.000000      0.000000         NaN  \n",
      "25%         0.000000      1.000000         NaN  \n",
      "50%         1.000000      3.000000         NaN  \n",
      "75%         1.000000      5.000000         NaN  \n",
      "max         1.000000     10.000000         NaN  \n",
      "\n",
      "[11 rows x 89 columns]\n",
      "\n",
      "Columns with negative values (if any): {'domain_registration_length': np.int64(46), 'domain_age': np.int64(1837)}\n",
      "\n",
      "Columns that could not be converted to numeric (if any): {'url': 'Unable to parse string \"http://www.crestonwood.com/router.php\" at position 0', 'status': 'Unable to parse string \"legitimate\" at position 0'}\n"
     ]
    }
   ],
   "source": [
    "# Checking for duplicate rows\n",
    "duplicate_rows = df.duplicated().sum()\n",
    "print(\"Number of duplicate rows:\", duplicate_rows)\n",
    "\n",
    "# Display data types and descriptive statistics\n",
    "print(\"\\nData Types:\")\n",
    "print(df.dtypes)\n",
    "\n",
    "print(\"\\nSummary Statistics:\")\n",
    "print(df.describe(include='all'))\n",
    "\n",
    "# Check for any numeric columns that may have unexpected negative values\n",
    "numeric_cols = df.select_dtypes(include=['int64', 'float64']).columns\n",
    "negative_values = {}\n",
    "for col in numeric_cols:\n",
    "    negatives = (df[col] < 0).sum()\n",
    "    if negatives > 0:\n",
    "        negative_values[col] = negatives\n",
    "print(\"\\nColumns with negative values (if any):\", negative_values)\n",
    "\n",
    "# Try converting columns to numeric to identify potential data type issues\n",
    "inconsistent_numeric = {}\n",
    "for col in df.columns:\n",
    "    try:\n",
    "        pd.to_numeric(df[col])\n",
    "    except Exception as e:\n",
    "        inconsistent_numeric[col] = str(e)\n",
    "print(\"\\nColumns that could not be converted to numeric (if any):\", inconsistent_numeric)\n"
   ]
  },
  {
   "cell_type": "markdown",
   "id": "8bb006f5",
   "metadata": {},
   "source": [
    "Some columns, such as url and status, could not be converted to numeric. This is expected if those columns are meant to be strings.\n",
    "We see that some numeric columns like domain_registration_length and domain_age have negative values."
   ]
  },
  {
   "cell_type": "code",
   "execution_count": null,
   "id": "787b8b4c",
   "metadata": {},
   "outputs": [
    {
     "name": "stdout",
     "output_type": "stream",
     "text": [
      "Negative Values Review\n",
      "------------------------\n",
      "Rows with negative domain_registration_length:\n",
      "       domain_registration_length\n",
      "443                            -1\n",
      "776                            -1\n",
      "870                            -1\n",
      "1092                           -1\n",
      "1208                           -1\n",
      "1225                           -1\n",
      "1298                           -1\n",
      "1830                           -1\n",
      "2231                           -1\n",
      "2316                           -1\n",
      "2440                           -1\n",
      "2629                           -1\n",
      "2662                           -1\n",
      "2784                           -1\n",
      "2805                           -1\n",
      "3819                           -1\n",
      "3894                           -1\n",
      "3908                           -1\n",
      "4307                           -1\n",
      "4451                           -1\n",
      "4705                           -1\n",
      "5195                           -1\n",
      "5520                           -1\n",
      "5977                           -1\n",
      "6130                           -1\n",
      "6623                           -1\n",
      "6673                           -1\n",
      "7116                           -1\n",
      "7204                           -1\n",
      "7896                           -1\n",
      "8225                           -1\n",
      "8512                           -1\n",
      "8545                           -1\n",
      "9328                           -1\n",
      "9415                           -1\n",
      "9939                           -1\n",
      "10000                          -1\n",
      "10209                          -1\n",
      "10474                          -1\n",
      "10549                          -1\n",
      "10693                          -1\n",
      "10834                          -1\n",
      "11023                          -1\n",
      "11027                          -1\n",
      "11331                          -1\n",
      "11373                          -1\n",
      "Total negative domain_registration_length count: 46\n",
      "\n",
      "Rows with negative domain_age:\n",
      "       domain_age\n",
      "0              -1\n",
      "3              -1\n",
      "5              -1\n",
      "10             -1\n",
      "29             -1\n",
      "...           ...\n",
      "11393          -1\n",
      "11404          -1\n",
      "11408          -1\n",
      "11414          -1\n",
      "11429          -1\n",
      "\n",
      "[1837 rows x 1 columns]\n",
      "Total negative domain_age count: 1837\n",
      "\n",
      "Status column validation passed. All values are as expected.\n",
      "\n",
      "All URLs follow the expected format.\n"
     ]
    }
   ],
   "source": [
    "# Review negative values in domain_registration_length and domain_age\n",
    "neg_domain_reg = df[df['domain_registration_length'] < 0]\n",
    "neg_domain_age = df[df['domain_age'] < 0]\n",
    "\n",
    "print(\"Negative Values Review\")\n",
    "print(\"------------------------\")\n",
    "print(\"Rows with negative domain_registration_length:\")\n",
    "print(neg_domain_reg[['domain_registration_length']])\n",
    "print(\"Total negative domain_registration_length count:\", neg_domain_reg.shape[0])\n",
    "print(\"\\nRows with negative domain_age:\")\n",
    "print(neg_domain_age[['domain_age']])\n",
    "print(\"Total negative domain_age count:\", neg_domain_age.shape[0])\n",
    "\n",
    "# Verify status column contains only expected values\n",
    "expected_status = {'legitimate', 'phishing'}\n",
    "unexpected_status = df[~df['status'].isin(expected_status)]['status'].unique()\n",
    "if len(unexpected_status) > 0:\n",
    "    print(\"\\nUnexpected values found in 'status' column:\", unexpected_status)\n",
    "else:\n",
    "    print(\"\\nStatus column validation passed. All values are as expected.\")\n",
    "\n",
    "# Verify URLs follow the expected format (start with http:// or https://)\n",
    "invalid_urls = df[~df['url'].str.startswith(('http://', 'https://'))]['url']\n",
    "if not invalid_urls.empty:\n",
    "    print(\"\\nInvalid URL format found in the following rows:\")\n",
    "    print(invalid_urls)\n",
    "    print(\"Total count of invalid URL formats:\", invalid_urls.shape[0])\n",
    "else:\n",
    "    print(\"\\nAll URLs follow the expected format.\")\n"
   ]
  },
  {
   "cell_type": "code",
   "execution_count": 17,
   "id": "d1267094",
   "metadata": {},
   "outputs": [
    {
     "name": "stdout",
     "output_type": "stream",
     "text": [
      "\n",
      "Columns selected for one-hot encoding: ['status']\n",
      "\n",
      "Shape of dataset before encoding: (11430, 89)\n",
      "Shape of dataset after encoding: (11430, 89)\n"
     ]
    }
   ],
   "source": [
    "# Status has two unique values\n",
    "columns_to_encode = ['status']\n",
    "print(\"\\nColumns selected for one-hot encoding:\", columns_to_encode)\n",
    "\n",
    "# Apply one-hot encoding to these columns. We set drop_first=True to avoid multicollinearity.\n",
    "df_encoded = pd.get_dummies(df, columns=columns_to_encode, drop_first=True)\n",
    "print(\"\\nShape of dataset before encoding:\", df.shape)\n",
    "print(\"Shape of dataset after encoding:\", df_encoded.shape)"
   ]
  },
  {
   "cell_type": "markdown",
   "id": "abab9e6d-18cc-4863-b980-3e52f581763a",
   "metadata": {},
   "source": [
    "# 4. Storytelling With Data graph"
   ]
  },
  {
   "cell_type": "markdown",
   "id": "1911148d-9df6-4b33-a875-8c96408ec834",
   "metadata": {},
   "source": [
    "Just like last week: choose any graph in the Introduction of Storytelling With Data. Use matplotlib to reproduce it in a rough way. I don't expect you to spend an enormous amount of time on this; I understand that you likely will not have time to re-create every feature of the graph. However, if you're excited about learning to use matplotlib, this is a good way to do that. You don't have to duplicate the exact values on the graph; just the same rough shape will be enough.  If you don't feel comfortable using matplotlib yet, do the best you can and write down what you tried or what Google searches you did to find the answers."
   ]
  },
  {
   "cell_type": "code",
   "execution_count": 21,
   "id": "8b2888f9-3700-45ab-9829-6a5372106f9f",
   "metadata": {},
   "outputs": [
    {
     "data": {
      "image/png": "[encoded data removed]",
      "text/plain": [
       "<Figure size 800x500 with 1 Axes>"
      ]
     },
     "metadata": {},
     "output_type": "display_data"
    }
   ],
   "source": [
    "import matplotlib.pyplot as plt\n",
    "\n",
    "# Sample data: representing two series over 8 time periods\n",
    "time_periods = [1, 2, 3, 4, 5, 6, 7, 8]\n",
    "series1 = [10, 15, 13, 17, 20, 23, 19, 22]\n",
    "series2 = [8, 12, 11, 14, 18, 21, 17, 20]\n",
    "\n",
    "# Create the line chart\n",
    "fig, ax = plt.subplots(figsize=(8, 5))\n",
    "ax.plot(time_periods, series1, marker='o', label='Series 1', color='green')\n",
    "ax.plot(time_periods, series2, marker='o', label='Series 2', color='orange')\n",
    "\n",
    "# Minimalist design: Remove top and right spines\n",
    "ax.spines['top'].set_visible(False)\n",
    "ax.spines['right'].set_visible(False)\n",
    "\n",
    "# Add labels and title for clarity\n",
    "ax.set_title('Trend Comparison Over Time')\n",
    "ax.set_xlabel('Time Period')\n",
    "ax.set_ylabel('Value')\n",
    "ax.legend()\n",
    "\n",
    "plt.tight_layout()\n",
    "plt.show()\n"
   ]
  }
 ],
 "metadata": {
  "kernelspec": {
   "display_name": "Python 3",
   "language": "python",
   "name": "python3"
  },
  "language_info": {
   "codemirror_mode": {
    "name": "ipython",
    "version": 3
   },
   "file_extension": ".py",
   "mimetype": "text/x-python",
   "name": "python",
   "nbconvert_exporter": "python",
   "pygments_lexer": "ipython3",
   "version": "3.11.11"
  }
 },
 "nbformat": 4,
 "nbformat_minor": 5
}
